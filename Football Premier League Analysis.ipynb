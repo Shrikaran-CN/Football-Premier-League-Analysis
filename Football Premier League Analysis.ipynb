{
 "cells": [
  {
   "cell_type": "code",
   "execution_count": 1,
   "id": "a1fa5c51",
   "metadata": {},
   "outputs": [],
   "source": [
    "import pandas as pd"
   ]
  },
  {
   "cell_type": "code",
   "execution_count": 2,
   "id": "373d9033",
   "metadata": {},
   "outputs": [],
   "source": [
    "df = pd.read_csv('premier_league_data.csv')"
   ]
  },
  {
   "cell_type": "code",
   "execution_count": 3,
   "id": "42700479",
   "metadata": {},
   "outputs": [
    {
     "data": {
      "text/html": [
       "<div>\n",
       "<style scoped>\n",
       "    .dataframe tbody tr th:only-of-type {\n",
       "        vertical-align: middle;\n",
       "    }\n",
       "\n",
       "    .dataframe tbody tr th {\n",
       "        vertical-align: top;\n",
       "    }\n",
       "\n",
       "    .dataframe thead th {\n",
       "        text-align: right;\n",
       "    }\n",
       "</style>\n",
       "<table border=\"1\" class=\"dataframe\">\n",
       "  <thead>\n",
       "    <tr style=\"text-align: right;\">\n",
       "      <th></th>\n",
       "      <th>home_team</th>\n",
       "      <th>away_team</th>\n",
       "      <th>home_goals</th>\n",
       "      <th>away_goals</th>\n",
       "      <th>result</th>\n",
       "      <th>season</th>\n",
       "    </tr>\n",
       "  </thead>\n",
       "  <tbody>\n",
       "    <tr>\n",
       "      <th>0</th>\n",
       "      <td>Sheffield United</td>\n",
       "      <td>Liverpool</td>\n",
       "      <td>1</td>\n",
       "      <td>1</td>\n",
       "      <td>D</td>\n",
       "      <td>2006-2007</td>\n",
       "    </tr>\n",
       "    <tr>\n",
       "      <th>1</th>\n",
       "      <td>Arsenal</td>\n",
       "      <td>Aston Villa</td>\n",
       "      <td>1</td>\n",
       "      <td>1</td>\n",
       "      <td>D</td>\n",
       "      <td>2006-2007</td>\n",
       "    </tr>\n",
       "    <tr>\n",
       "      <th>2</th>\n",
       "      <td>Everton</td>\n",
       "      <td>Watford</td>\n",
       "      <td>2</td>\n",
       "      <td>1</td>\n",
       "      <td>H</td>\n",
       "      <td>?</td>\n",
       "    </tr>\n",
       "    <tr>\n",
       "      <th>3</th>\n",
       "      <td>Newcastle United</td>\n",
       "      <td>Wigan Athletic</td>\n",
       "      <td>2</td>\n",
       "      <td>1</td>\n",
       "      <td>H</td>\n",
       "      <td>2006-2007</td>\n",
       "    </tr>\n",
       "    <tr>\n",
       "      <th>4</th>\n",
       "      <td>Portsmouth</td>\n",
       "      <td>Blackburn Rovers</td>\n",
       "      <td>3</td>\n",
       "      <td>0</td>\n",
       "      <td>H</td>\n",
       "      <td>2006-2007</td>\n",
       "    </tr>\n",
       "  </tbody>\n",
       "</table>\n",
       "</div>"
      ],
      "text/plain": [
       "          home_team         away_team  home_goals  away_goals result  \\\n",
       "0  Sheffield United         Liverpool           1           1      D   \n",
       "1           Arsenal       Aston Villa           1           1      D   \n",
       "2           Everton           Watford           2           1      H   \n",
       "3  Newcastle United    Wigan Athletic           2           1      H   \n",
       "4        Portsmouth  Blackburn Rovers           3           0      H   \n",
       "\n",
       "      season  \n",
       "0  2006-2007  \n",
       "1  2006-2007  \n",
       "2          ?  \n",
       "3  2006-2007  \n",
       "4  2006-2007  "
      ]
     },
     "execution_count": 3,
     "metadata": {},
     "output_type": "execute_result"
    }
   ],
   "source": [
    "df.head()"
   ]
  },
  {
   "cell_type": "code",
   "execution_count": 4,
   "id": "97dd8c09",
   "metadata": {},
   "outputs": [
    {
     "name": "stdout",
     "output_type": "stream",
     "text": [
      "<class 'pandas.core.frame.DataFrame'>\n",
      "RangeIndex: 4560 entries, 0 to 4559\n",
      "Data columns (total 6 columns):\n",
      " #   Column      Non-Null Count  Dtype \n",
      "---  ------      --------------  ----- \n",
      " 0   home_team   4560 non-null   object\n",
      " 1   away_team   4560 non-null   object\n",
      " 2   home_goals  4560 non-null   int64 \n",
      " 3   away_goals  4560 non-null   int64 \n",
      " 4   result      4560 non-null   object\n",
      " 5   season      4560 non-null   object\n",
      "dtypes: int64(2), object(4)\n",
      "memory usage: 213.9+ KB\n"
     ]
    }
   ],
   "source": [
    "df.info()"
   ]
  },
  {
   "cell_type": "markdown",
   "id": "8b17f79e",
   "metadata": {},
   "source": [
    "## Data Cleaning"
   ]
  },
  {
   "cell_type": "markdown",
   "id": "56682ae3",
   "metadata": {},
   "source": [
    "#### Remove invalid values from the `season` column"
   ]
  },
  {
   "cell_type": "code",
   "execution_count": 6,
   "id": "1195b379",
   "metadata": {},
   "outputs": [
    {
     "name": "stdout",
     "output_type": "stream",
     "text": [
      "['2006-2007' '?' '2007-2008' '2008-2009' '2009-2010' '2010-2011'\n",
      " '2011-2012' '2012-2013' '2013-2014' '2014-2015' '2015-2016' '2016-2017'\n",
      " '2017-2018']\n"
     ]
    }
   ],
   "source": [
    "print(df['season'].unique())"
   ]
  },
  {
   "cell_type": "code",
   "execution_count": 7,
   "id": "a6262687",
   "metadata": {},
   "outputs": [
    {
     "name": "stderr",
     "output_type": "stream",
     "text": [
      "C:\\Users\\Shrikaran\\AppData\\Local\\Temp\\ipykernel_8888\\2906640125.py:1: FutureWarning: The default value of regex will change from True to False in a future version. In addition, single character regular expressions will *not* be treated as literal strings when regex=True.\n",
      "  df['season'] = df['season'].str.replace('?','Unknown season')\n"
     ]
    },
    {
     "data": {
      "text/html": [
       "<div>\n",
       "<style scoped>\n",
       "    .dataframe tbody tr th:only-of-type {\n",
       "        vertical-align: middle;\n",
       "    }\n",
       "\n",
       "    .dataframe tbody tr th {\n",
       "        vertical-align: top;\n",
       "    }\n",
       "\n",
       "    .dataframe thead th {\n",
       "        text-align: right;\n",
       "    }\n",
       "</style>\n",
       "<table border=\"1\" class=\"dataframe\">\n",
       "  <thead>\n",
       "    <tr style=\"text-align: right;\">\n",
       "      <th></th>\n",
       "      <th>home_team</th>\n",
       "      <th>away_team</th>\n",
       "      <th>home_goals</th>\n",
       "      <th>away_goals</th>\n",
       "      <th>result</th>\n",
       "      <th>season</th>\n",
       "    </tr>\n",
       "  </thead>\n",
       "  <tbody>\n",
       "    <tr>\n",
       "      <th>0</th>\n",
       "      <td>Sheffield United</td>\n",
       "      <td>Liverpool</td>\n",
       "      <td>1</td>\n",
       "      <td>1</td>\n",
       "      <td>D</td>\n",
       "      <td>2006-2007</td>\n",
       "    </tr>\n",
       "    <tr>\n",
       "      <th>1</th>\n",
       "      <td>Arsenal</td>\n",
       "      <td>Aston Villa</td>\n",
       "      <td>1</td>\n",
       "      <td>1</td>\n",
       "      <td>D</td>\n",
       "      <td>2006-2007</td>\n",
       "    </tr>\n",
       "    <tr>\n",
       "      <th>2</th>\n",
       "      <td>Everton</td>\n",
       "      <td>Watford</td>\n",
       "      <td>2</td>\n",
       "      <td>1</td>\n",
       "      <td>H</td>\n",
       "      <td>Unknown season</td>\n",
       "    </tr>\n",
       "    <tr>\n",
       "      <th>3</th>\n",
       "      <td>Newcastle United</td>\n",
       "      <td>Wigan Athletic</td>\n",
       "      <td>2</td>\n",
       "      <td>1</td>\n",
       "      <td>H</td>\n",
       "      <td>2006-2007</td>\n",
       "    </tr>\n",
       "    <tr>\n",
       "      <th>4</th>\n",
       "      <td>Portsmouth</td>\n",
       "      <td>Blackburn Rovers</td>\n",
       "      <td>3</td>\n",
       "      <td>0</td>\n",
       "      <td>H</td>\n",
       "      <td>2006-2007</td>\n",
       "    </tr>\n",
       "  </tbody>\n",
       "</table>\n",
       "</div>"
      ],
      "text/plain": [
       "          home_team         away_team  home_goals  away_goals result  \\\n",
       "0  Sheffield United         Liverpool           1           1      D   \n",
       "1           Arsenal       Aston Villa           1           1      D   \n",
       "2           Everton           Watford           2           1      H   \n",
       "3  Newcastle United    Wigan Athletic           2           1      H   \n",
       "4        Portsmouth  Blackburn Rovers           3           0      H   \n",
       "\n",
       "           season  \n",
       "0       2006-2007  \n",
       "1       2006-2007  \n",
       "2  Unknown season  \n",
       "3       2006-2007  \n",
       "4       2006-2007  "
      ]
     },
     "execution_count": 7,
     "metadata": {},
     "output_type": "execute_result"
    }
   ],
   "source": [
    "df['season'] = df['season'].str.replace('?','Unknown season')\n",
    "df.head()"
   ]
  },
  {
   "cell_type": "markdown",
   "id": "ff5474e3",
   "metadata": {},
   "source": [
    "#### Identify invalid values in goals scored"
   ]
  },
  {
   "cell_type": "code",
   "execution_count": 8,
   "id": "40de7734",
   "metadata": {},
   "outputs": [
    {
     "data": {
      "text/plain": [
       "<AxesSubplot:>"
      ]
     },
     "execution_count": 8,
     "metadata": {},
     "output_type": "execute_result"
    },
    {
     "data": {
      "image/png": "[encoded data removed]",
      "text/plain": [
       "<Figure size 432x288 with 1 Axes>"
      ]
     },
     "metadata": {
      "needs_background": "light"
     },
     "output_type": "display_data"
    }
   ],
   "source": [
    "df[['home_goals','away_goals']].plot(kind='box',vert=False)"
   ]
  },
  {
   "cell_type": "code",
   "execution_count": 9,
   "id": "bfb8955b",
   "metadata": {},
   "outputs": [
    {
     "data": {
      "text/plain": [
       "34"
      ]
     },
     "execution_count": 9,
     "metadata": {},
     "output_type": "execute_result"
    }
   ],
   "source": [
    "df.loc[df['home_goals'] < 0, 'home_goals'].count()"
   ]
  },
  {
   "cell_type": "code",
   "execution_count": 10,
   "id": "48c8ad91",
   "metadata": {},
   "outputs": [
    {
     "data": {
      "text/plain": [
       "39"
      ]
     },
     "execution_count": 10,
     "metadata": {},
     "output_type": "execute_result"
    }
   ],
   "source": [
    "df.loc[df['away_goals'] < 0, 'away_goals'].count()"
   ]
  },
  {
   "cell_type": "markdown",
   "id": "a172ed00",
   "metadata": {},
   "source": [
    "#### Replace invalid goals for 0"
   ]
  },
  {
   "cell_type": "code",
   "execution_count": 11,
   "id": "e24871a4",
   "metadata": {},
   "outputs": [],
   "source": [
    "df.loc[df['home_goals'] < 0, 'home_goals'] = 0"
   ]
  },
  {
   "cell_type": "code",
   "execution_count": 12,
   "id": "da8bf307",
   "metadata": {},
   "outputs": [],
   "source": [
    "df.loc[df['away_goals'] < 0, 'away_goals'] = 0"
   ]
  },
  {
   "cell_type": "markdown",
   "id": "ec9dfd2e",
   "metadata": {},
   "source": [
    "#### Identify and clean invalid results in the `result` column"
   ]
  },
  {
   "cell_type": "code",
   "execution_count": 13,
   "id": "5e84d534",
   "metadata": {},
   "outputs": [
    {
     "data": {
      "text/plain": [
       "H    2088\n",
       "A    1278\n",
       "D    1151\n",
       "?      43\n",
       "Name: result, dtype: int64"
      ]
     },
     "execution_count": 13,
     "metadata": {},
     "output_type": "execute_result"
    }
   ],
   "source": [
    "df['result'].value_counts()"
   ]
  },
  {
   "cell_type": "code",
   "execution_count": 14,
   "id": "39feba91",
   "metadata": {},
   "outputs": [],
   "source": [
    "df.loc[df['home_goals'] > df['away_goals'], 'result'] = 'H'"
   ]
  },
  {
   "cell_type": "code",
   "execution_count": 15,
   "id": "929bee97",
   "metadata": {},
   "outputs": [],
   "source": [
    "df.loc[df['home_goals'] < df['away_goals'], 'result'] = 'A'"
   ]
  },
  {
   "cell_type": "code",
   "execution_count": 16,
   "id": "c77afead",
   "metadata": {},
   "outputs": [],
   "source": [
    "df.loc[df['home_goals'] == df['away_goals'], 'result'] = 'D'"
   ]
  },
  {
   "cell_type": "code",
   "execution_count": 17,
   "id": "51f7dd55",
   "metadata": {},
   "outputs": [
    {
     "data": {
      "text/plain": [
       "H    2107\n",
       "A    1294\n",
       "D    1159\n",
       "Name: result, dtype: int64"
      ]
     },
     "execution_count": 17,
     "metadata": {},
     "output_type": "execute_result"
    }
   ],
   "source": [
    "df['result'].value_counts()"
   ]
  },
  {
   "cell_type": "markdown",
   "id": "d805090e",
   "metadata": {},
   "source": [
    "## Analysis"
   ]
  },
  {
   "cell_type": "markdown",
   "id": "29e107ed",
   "metadata": {},
   "source": [
    "#### What's the average number of goals per match?"
   ]
  },
  {
   "cell_type": "code",
   "execution_count": 18,
   "id": "6e0a2917",
   "metadata": {},
   "outputs": [
    {
     "data": {
      "text/plain": [
       "2.6633771929824563"
      ]
     },
     "execution_count": 18,
     "metadata": {},
     "output_type": "execute_result"
    }
   ],
   "source": [
    "(df['home_goals'] + df['away_goals']).mean()"
   ]
  },
  {
   "cell_type": "markdown",
   "id": "f4651309",
   "metadata": {},
   "source": [
    "#### Create a new column `total_goals`"
   ]
  },
  {
   "cell_type": "code",
   "execution_count": 19,
   "id": "d5908228",
   "metadata": {},
   "outputs": [
    {
     "data": {
      "text/plain": [
       "0    2\n",
       "1    2\n",
       "2    3\n",
       "3    3\n",
       "4    3\n",
       "Name: total_goals, dtype: int64"
      ]
     },
     "execution_count": 19,
     "metadata": {},
     "output_type": "execute_result"
    }
   ],
   "source": [
    "df['total_goals'] = df['home_goals'] + df['away_goals']\n",
    "df['total_goals'].head()"
   ]
  },
  {
   "cell_type": "markdown",
   "id": "b515bad6",
   "metadata": {},
   "source": [
    "#### Calculate average goals per season"
   ]
  },
  {
   "cell_type": "code",
   "execution_count": 20,
   "id": "46076ea3",
   "metadata": {},
   "outputs": [
    {
     "data": {
      "text/plain": [
       "season\n",
       "2006-2007         2.429799\n",
       "2007-2008         2.618421\n",
       "2008-2009         2.463158\n",
       "2009-2010         2.747368\n",
       "2010-2011         2.797368\n",
       "2011-2012         2.763158\n",
       "2012-2013         2.773684\n",
       "2013-2014         2.718421\n",
       "2014-2015         2.500000\n",
       "2015-2016         2.676316\n",
       "2016-2017         2.794737\n",
       "2017-2018         2.678947\n",
       "Unknown season    2.419355\n",
       "Name: total_goals, dtype: float64"
      ]
     },
     "execution_count": 20,
     "metadata": {},
     "output_type": "execute_result"
    }
   ],
   "source": [
    "df.groupby('season')['total_goals'].mean().sort_index()"
   ]
  },
  {
   "cell_type": "markdown",
   "id": "a2188931",
   "metadata": {},
   "source": [
    "#### What's the biggest goal difference in a match?"
   ]
  },
  {
   "cell_type": "code",
   "execution_count": 21,
   "id": "3ab07b90",
   "metadata": {},
   "outputs": [
    {
     "data": {
      "text/plain": [
       "8"
      ]
     },
     "execution_count": 21,
     "metadata": {},
     "output_type": "execute_result"
    }
   ],
   "source": [
    "(df['home_goals'] - df['away_goals']).abs().max()\n"
   ]
  },
  {
   "cell_type": "markdown",
   "id": "0233a9f4",
   "metadata": {},
   "source": [
    "#### What's the team with most away wins?"
   ]
  },
  {
   "cell_type": "code",
   "execution_count": 22,
   "id": "3aabcee8",
   "metadata": {},
   "outputs": [
    {
     "data": {
      "text/plain": [
       "away_team\n",
       "Chelsea              120\n",
       "Manchester United    117\n",
       "Arsenal              103\n",
       "Liverpool             98\n",
       "Manchester City       98\n",
       "Name: result, dtype: int64"
      ]
     },
     "execution_count": 22,
     "metadata": {},
     "output_type": "execute_result"
    }
   ],
   "source": [
    "df.loc[df['result'] == 'A'].groupby('away_team')['result'].count().sort_values(ascending=False).head()"
   ]
  },
  {
   "cell_type": "markdown",
   "id": "f81491d0",
   "metadata": {},
   "source": [
    "#### What's the team with the most goals scored at home?"
   ]
  },
  {
   "cell_type": "code",
   "execution_count": 23,
   "id": "8c485b53",
   "metadata": {},
   "outputs": [
    {
     "data": {
      "text/plain": [
       "home_team\n",
       "Manchester City      499\n",
       "Manchester United    495\n",
       "Chelsea              488\n",
       "Arsenal              471\n",
       "Liverpool            459\n",
       "Name: home_goals, dtype: int64"
      ]
     },
     "execution_count": 23,
     "metadata": {},
     "output_type": "execute_result"
    }
   ],
   "source": [
    "df.groupby('home_team')['home_goals'].sum().sort_values(ascending=False).head()"
   ]
  },
  {
   "cell_type": "markdown",
   "id": "29f836df",
   "metadata": {},
   "source": [
    "#### What's the team that has conceded the least amount of goals while playing at home?"
   ]
  },
  {
   "cell_type": "code",
   "execution_count": 24,
   "id": "8746bdfa",
   "metadata": {},
   "outputs": [
    {
     "data": {
      "text/plain": [
       "home_team\n",
       "Manchester United    0.692982\n",
       "Liverpool            0.789474\n",
       "Arsenal              0.802632\n",
       "Chelsea              0.802632\n",
       "Manchester City      0.815789\n",
       "Name: away_goals, dtype: float64"
      ]
     },
     "execution_count": 24,
     "metadata": {},
     "output_type": "execute_result"
    }
   ],
   "source": [
    "df.groupby('home_team')['away_goals'].mean().sort_values().head()"
   ]
  },
  {
   "cell_type": "markdown",
   "id": "943aeffa",
   "metadata": {},
   "source": [
    "#### What's the team with most goals scored playing as a visitor (away from home)?"
   ]
  },
  {
   "cell_type": "code",
   "execution_count": 25,
   "id": "9e588b92",
   "metadata": {},
   "outputs": [
    {
     "data": {
      "text/plain": [
       "away_team\n",
       "Arsenal              379\n",
       "Manchester United    366\n",
       "Manchester City      359\n",
       "Chelsea              357\n",
       "Liverpool            348\n",
       "Name: away_goals, dtype: int64"
      ]
     },
     "execution_count": 25,
     "metadata": {},
     "output_type": "execute_result"
    }
   ],
   "source": [
    "df.groupby('away_team')['away_goals'].sum().sort_values(ascending=False).head()"
   ]
  }
 ],
 "metadata": {
  "kernelspec": {
   "display_name": "Python 3 (ipykernel)",
   "language": "python",
   "name": "python3"
  },
  "language_info": {
   "codemirror_mode": {
    "name": "ipython",
    "version": 3
   },
   "file_extension": ".py",
   "mimetype": "text/x-python",
   "name": "python",
   "nbconvert_exporter": "python",
   "pygments_lexer": "ipython3",
   "version": "3.9.12"
  }
 },
 "nbformat": 4,
 "nbformat_minor": 5
}
